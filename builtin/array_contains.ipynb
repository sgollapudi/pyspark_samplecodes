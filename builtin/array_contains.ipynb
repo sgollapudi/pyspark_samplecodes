{
 "cells": [
  {
   "cell_type": "code",
   "execution_count": 19,
   "metadata": {},
   "outputs": [],
   "source": [
    "data=[('a1',10,20,['d1','d2']),('b1',30,40,['d2','d4']),('c1',300,400,None),('d1',200,500,[])]"
   ]
  },
  {
   "cell_type": "code",
   "execution_count": 20,
   "metadata": {},
   "outputs": [],
   "source": [
    "inpdf=spark.createDataFrame(data,['col1','col2','col3','col4'])"
   ]
  },
  {
   "cell_type": "code",
   "execution_count": 11,
   "metadata": {},
   "outputs": [
    {
     "name": "stdout",
     "output_type": "stream",
     "text": [
      "root\n",
      " |-- col1: string (nullable = true)\n",
      " |-- col2: long (nullable = true)\n",
      " |-- col3: long (nullable = true)\n",
      " |-- col4: array (nullable = true)\n",
      " |    |-- element: string (containsNull = true)\n",
      "\n"
     ]
    }
   ],
   "source": [
    "inpdf.printSchema()"
   ]
  },
  {
   "cell_type": "code",
   "execution_count": 21,
   "metadata": {},
   "outputs": [
    {
     "name": "stdout",
     "output_type": "stream",
     "text": [
      "+----+----+----+--------+\n",
      "|col1|col2|col3|    col4|\n",
      "+----+----+----+--------+\n",
      "|  a1|  10|  20|[d1, d2]|\n",
      "|  b1|  30|  40|[d2, d4]|\n",
      "|  c1| 300| 400|    null|\n",
      "|  d1| 200| 500|      []|\n",
      "+----+----+----+--------+\n",
      "\n"
     ]
    }
   ],
   "source": [
    "inpdf.show()"
   ]
  },
  {
   "cell_type": "code",
   "execution_count": 29,
   "metadata": {},
   "outputs": [
    {
     "name": "stdout",
     "output_type": "stream",
     "text": [
      "+----+----+----+--------+-----+-----+\n",
      "|col1|col2|col3|    col4| col5| col6|\n",
      "+----+----+----+--------+-----+-----+\n",
      "|  a1|  10|  20|[d1, d2]|false|false|\n",
      "|  b1|  30|  40|[d2, d4]| true| true|\n",
      "|  c1| 300| 400|    null| null| true|\n",
      "|  d1| 200| 500|      []|false|false|\n",
      "+----+----+----+--------+-----+-----+\n",
      "\n"
     ]
    }
   ],
   "source": [
    "inpdf.selectExpr('*',\"array_contains(col4,'d4') as col5\",\"(array_contains(col4,'d4') or col1='c1') and col2>10 as col6 \").show()"
   ]
  },
  {
   "cell_type": "code",
   "execution_count": null,
   "metadata": {},
   "outputs": [],
   "source": []
  }
 ],
 "metadata": {
  "kernelspec": {
   "display_name": "Python 2",
   "language": "python",
   "name": "python2"
  }
 },
 "nbformat": 4,
 "nbformat_minor": 2
}
