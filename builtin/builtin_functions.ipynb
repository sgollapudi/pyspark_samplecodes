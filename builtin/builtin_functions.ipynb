{
 "cells": [
  {
   "cell_type": "code",
   "execution_count": 1,
   "metadata": {},
   "outputs": [],
   "source": [
    "from  pyspark.sql import functions as Fun\n",
    "from pyspark.sql.types import *\n"
   ]
  },
  {
   "cell_type": "code",
   "execution_count": 2,
   "metadata": {},
   "outputs": [],
   "source": [
    "data=[('a1',10,20,['d1','d2']),('b1',25,40,['d2','d4','d1']),('c1',25,400,None),('d1',40,15,[])]\n",
    "inpdf=spark.createDataFrame(data,['col1','col2','col3','col4'])"
   ]
  },
  {
   "cell_type": "code",
   "execution_count": 15,
   "metadata": {},
   "outputs": [
    {
     "name": "stdout",
     "output_type": "stream",
     "text": [
      "+----+----+----+------------+\n",
      "|col1|col2|col3|        col4|\n",
      "+----+----+----+------------+\n",
      "|  a1|  10|  20|    [d1, d2]|\n",
      "|  b1|  25|  40|[d2, d4, d1]|\n",
      "|  c1|  25| 400|        null|\n",
      "|  d1|  40|  15|          []|\n",
      "+----+----+----+------------+\n",
      "\n"
     ]
    }
   ],
   "source": [
    "inpdf.show()"
   ]
  },
  {
   "cell_type": "markdown",
   "metadata": {},
   "source": [
    "## Check whether atleast one element from array matches with string"
   ]
  },
  {
   "cell_type": "code",
   "execution_count": 29,
   "metadata": {},
   "outputs": [
    {
     "name": "stdout",
     "output_type": "stream",
     "text": [
      "+----+----+----+--------+-----+-----+\n",
      "|col1|col2|col3|    col4| col5| col6|\n",
      "+----+----+----+--------+-----+-----+\n",
      "|  a1|  10|  20|[d1, d2]|false|false|\n",
      "|  b1|  30|  40|[d2, d4]| true| true|\n",
      "|  c1| 300| 400|    null| null| true|\n",
      "|  d1| 200| 500|      []|false|false|\n",
      "+----+----+----+--------+-----+-----+\n",
      "\n"
     ]
    }
   ],
   "source": [
    "inpdf.selectExpr('*',\"array_contains(col4,'d4') as col5\",\"(array_contains(col4,'d4') or col1='c1') and col2>10 as col6 \").show()"
   ]
  },
  {
   "cell_type": "markdown",
   "metadata": {},
   "source": [
    "## Sort using multiple columns"
   ]
  },
  {
   "cell_type": "code",
   "execution_count": 17,
   "metadata": {},
   "outputs": [
    {
     "name": "stdout",
     "output_type": "stream",
     "text": [
      "+----+----+----+------------+\n",
      "|col1|col2|col3|        col4|\n",
      "+----+----+----+------------+\n",
      "|  d1|  40|  15|          []|\n",
      "|  b1|  25|  40|[d2, d4, d1]|\n",
      "|  c1|  25| 400|        null|\n",
      "|  a1|  10|  20|    [d1, d2]|\n",
      "+----+----+----+------------+\n",
      "\n"
     ]
    }
   ],
   "source": [
    "inpdf.sort(Fun.desc('col2'),Fun.asc('col3')).show()"
   ]
  },
  {
   "cell_type": "markdown",
   "metadata": {},
   "source": [
    "## Combine multiple elements into a list"
   ]
  },
  {
   "cell_type": "code",
   "execution_count": 26,
   "metadata": {},
   "outputs": [
    {
     "name": "stdout",
     "output_type": "stream",
     "text": [
      "+------------------+\n",
      "|collect_list(col2)|\n",
      "+------------------+\n",
      "|  [10, 25, 25, 40]|\n",
      "+------------------+\n",
      "\n"
     ]
    }
   ],
   "source": [
    "inpdf.selectExpr('collect_list(col2)').show()"
   ]
  },
  {
   "cell_type": "markdown",
   "metadata": {},
   "source": [
    "## Explode function"
   ]
  },
  {
   "cell_type": "code",
   "execution_count": 46,
   "metadata": {},
   "outputs": [
    {
     "name": "stdout",
     "output_type": "stream",
     "text": [
      "+----+----+----+----+\n",
      "|col1|col2|col3|col4|\n",
      "+----+----+----+----+\n",
      "|  a1|  10|  20|  d1|\n",
      "|  a1|  10|  20|  d2|\n",
      "|  b1|  25|  40|  d2|\n",
      "|  b1|  25|  40|  d4|\n",
      "|  b1|  25|  40|  d1|\n",
      "+----+----+----+----+\n",
      "\n"
     ]
    }
   ],
   "source": [
    "inpdf.withColumn(\"col4\",Fun.explode('col4')).show()"
   ]
  },
  {
   "cell_type": "markdown",
   "metadata": {},
   "source": [
    "## Sort elements of any array"
   ]
  },
  {
   "cell_type": "code",
   "execution_count": 6,
   "metadata": {},
   "outputs": [
    {
     "name": "stdout",
     "output_type": "stream",
     "text": [
      "+----+----+----+------------+------------+\n",
      "|col1|col2|col3|        col4|        col6|\n",
      "+----+----+----+------------+------------+\n",
      "|  a1|  10|  20|    [d1, d2]|    [d1, d2]|\n",
      "|  b1|  25|  40|[d2, d4, d1]|[d1, d2, d4]|\n",
      "|  c1|  25| 400|        null|        null|\n",
      "|  d1|  40|  15|          []|          []|\n",
      "+----+----+----+------------+------------+\n",
      "\n"
     ]
    }
   ],
   "source": [
    "inpdf.withColumn('col6',Fun.sort_array(Fun.col('col4'))).show()"
   ]
  },
  {
   "cell_type": "markdown",
   "metadata": {},
   "source": [
    "## Get input file name"
   ]
  },
  {
   "cell_type": "code",
   "execution_count": 2,
   "metadata": {},
   "outputs": [],
   "source": [
    "inp=spark.read.csv('input/*',header=True,sep='|')"
   ]
  },
  {
   "cell_type": "code",
   "execution_count": 9,
   "metadata": {},
   "outputs": [
    {
     "name": "stdout",
     "output_type": "stream",
     "text": [
      "+---+---+---+--------------------+\n",
      "| c1| c2| c3|     input_file_name|\n",
      "+---+---+---+--------------------+\n",
      "| a1| 15|  5|file:///Users/sri...|\n",
      "| a2| 25|  6|file:///Users/sri...|\n",
      "| a1| 10| 20|file:///Users/sri...|\n",
      "+---+---+---+--------------------+\n",
      "\n"
     ]
    }
   ],
   "source": [
    "inp.withColumn('input_file_name',Fun.input_file_name()).show()"
   ]
  },
  {
   "cell_type": "code",
   "execution_count": 10,
   "metadata": {},
   "outputs": [],
   "source": [
    "inp_rdd=sc.textFile('input/*').map(lambda x:x.split('|'))"
   ]
  },
  {
   "cell_type": "code",
   "execution_count": 13,
   "metadata": {},
   "outputs": [
    {
     "name": "stdout",
     "output_type": "stream",
     "text": [
      "+---+---+---+--------------------+\n",
      "| _1| _2| _3|     input_file_name|\n",
      "+---+---+---+--------------------+\n",
      "| c1| c2| c3|file:/Users/srika...|\n",
      "| a1| 15|  5|file:/Users/srika...|\n",
      "| a2| 25|  6|file:/Users/srika...|\n",
      "| c1| c2| c3|file:/Users/srika...|\n",
      "| a1| 10| 20|file:/Users/srika...|\n",
      "+---+---+---+--------------------+\n",
      "\n"
     ]
    }
   ],
   "source": [
    "spark.createDataFrame(inp_rdd).withColumn('input_file_name',Fun.input_file_name()).show()"
   ]
  },
  {
   "cell_type": "code",
   "execution_count": 7,
   "metadata": {},
   "outputs": [
    {
     "name": "stdout",
     "output_type": "stream",
     "text": [
      "+----+----+----+------------+----+\n",
      "|col1|col2|col3|        col4|col6|\n",
      "+----+----+----+------------+----+\n",
      "|  a1|  10|  20|    [d1, d2]|   0|\n",
      "|  b1|  25|  40|[d2, d4, d1]|   1|\n",
      "|  c1|  25| 400|        null|   2|\n",
      "|  d1|  40|  15|          []|   3|\n",
      "+----+----+----+------------+----+\n",
      "\n"
     ]
    }
   ],
   "source": [
    "inpdf.withColumn('col6',Fun.spark_partition_id()).show()"
   ]
  },
  {
   "cell_type": "code",
   "execution_count": null,
   "metadata": {},
   "outputs": [],
   "source": []
  }
 ],
 "metadata": {
  "kernelspec": {
   "display_name": "Python 2",
   "language": "python",
   "name": "python2"
  },
  "language_info": {
   "codemirror_mode": {
    "name": "ipython",
    "version": 2
   },
   "file_extension": ".py",
   "mimetype": "text/x-python",
   "name": "python",
   "nbconvert_exporter": "python",
   "pygments_lexer": "ipython2",
   "version": "2.7.15"
  }
 },
 "nbformat": 4,
 "nbformat_minor": 2
}
