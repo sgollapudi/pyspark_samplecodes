{
 "cells": [
  {
   "cell_type": "code",
   "execution_count": 34,
   "metadata": {},
   "outputs": [],
   "source": [
    "from  pyspark.sql import functions as Fun\n",
    "from pyspark.sql.types import *\n",
    "from pyspark.sql.window import Window"
   ]
  },
  {
   "cell_type": "code",
   "execution_count": 21,
   "metadata": {},
   "outputs": [],
   "source": [
    "data=[('a1',10,20),('b1',25,40),('c1',25,400),('a1',40,15),('c1',25,500),('c1',30,600)]\n",
    "inpdf=spark.createDataFrame(data,['col1','col2','col3'])"
   ]
  },
  {
   "cell_type": "code",
   "execution_count": 22,
   "metadata": {},
   "outputs": [],
   "source": [
    "inpdf.createOrReplaceTempView('tmp1')"
   ]
  },
  {
   "cell_type": "code",
   "execution_count": 25,
   "metadata": {},
   "outputs": [
    {
     "name": "stdout",
     "output_type": "stream",
     "text": [
      "+----+----+----+----+\n",
      "|col1|col2|col3|rank|\n",
      "+----+----+----+----+\n",
      "|  c1|  25| 400|   1|\n",
      "|  c1|  25| 500|   1|\n",
      "|  c1|  30| 600|   3|\n",
      "|  b1|  25|  40|   1|\n",
      "|  a1|  10|  20|   1|\n",
      "|  a1|  40|  15|   2|\n",
      "+----+----+----+----+\n",
      "\n"
     ]
    }
   ],
   "source": [
    "spark.sql(\"select *,rank() over (partition by col1 order by col2) as rank from tmp1\").show()"
   ]
  },
  {
   "cell_type": "code",
   "execution_count": 27,
   "metadata": {},
   "outputs": [
    {
     "name": "stdout",
     "output_type": "stream",
     "text": [
      "+----+----+----+------+\n",
      "|col1|col2|col3|rownum|\n",
      "+----+----+----+------+\n",
      "|  c1|  25| 400|     1|\n",
      "|  c1|  25| 500|     2|\n",
      "|  c1|  30| 600|     3|\n",
      "|  b1|  25|  40|     1|\n",
      "|  a1|  10|  20|     1|\n",
      "|  a1|  40|  15|     2|\n",
      "+----+----+----+------+\n",
      "\n"
     ]
    }
   ],
   "source": [
    "spark.sql(\"select *,row_number() over (partition by col1 order by col2) as rownum from tmp1\").show()"
   ]
  },
  {
   "cell_type": "code",
   "execution_count": 33,
   "metadata": {},
   "outputs": [
    {
     "name": "stdout",
     "output_type": "stream",
     "text": [
      "+----+----+----+-------+\n",
      "|col1|col2|col3|maxcol3|\n",
      "+----+----+----+-------+\n",
      "|  c1|  30| 600|     30|\n",
      "|  c1|  25| 400|     30|\n",
      "|  c1|  25| 500|     30|\n",
      "|  b1|  25|  40|     25|\n",
      "|  a1|  40|  15|     40|\n",
      "|  a1|  10|  20|     40|\n",
      "+----+----+----+-------+\n",
      "\n"
     ]
    }
   ],
   "source": [
    "spark.sql(\"select *,first_value(col2) over (partition by col1 order by col2 desc) as maxcol3 from tmp1\").show()"
   ]
  },
  {
   "cell_type": "code",
   "execution_count": 35,
   "metadata": {},
   "outputs": [],
   "source": [
    "winsp=Window.partitionBy('col1').orderBy('col2')"
   ]
  },
  {
   "cell_type": "code",
   "execution_count": null,
   "metadata": {},
   "outputs": [],
   "source": []
  }
 ],
 "metadata": {
  "kernelspec": {
   "display_name": "Python 2",
   "language": "python",
   "name": "python2"
  },
  "language_info": {
   "codemirror_mode": {
    "name": "ipython",
    "version": 2
   },
   "file_extension": ".py",
   "mimetype": "text/x-python",
   "name": "python",
   "nbconvert_exporter": "python",
   "pygments_lexer": "ipython2",
   "version": "2.7.15"
  }
 },
 "nbformat": 4,
 "nbformat_minor": 2
}
